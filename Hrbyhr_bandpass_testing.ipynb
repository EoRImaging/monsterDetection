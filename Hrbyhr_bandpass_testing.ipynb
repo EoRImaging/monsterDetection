{
 "cells": [
  {
   "cell_type": "code",
   "execution_count": null,
   "metadata": {},
   "outputs": [],
   "source": [
    "import os\n",
    "from pyuvdata import UVData\n",
    "import numpy as np\n",
    "from matplotlib import pyplot as plt\n",
    "import matplotlib.colors as colors\n",
    "import matplotlib.gridspec as gridspec\n",
    "import numpy.ma as ma"
   ]
  },
  {
   "cell_type": "code",
   "execution_count": null,
   "metadata": {},
   "outputs": [],
   "source": [
    "file = 2458745\n",
    "uv = UVData()\n",
    "uv.read('/lustre/aoc/projects/hera/pstar/autos/'+str(file)+'_autos_sum.uvh5')"
   ]
  },
  {
   "cell_type": "code",
   "execution_count": null,
   "metadata": {},
   "outputs": [],
   "source": [
    "print(np.sort(uv.antenna_numbers))"
   ]
  },
  {
   "cell_type": "code",
   "execution_count": null,
   "metadata": {},
   "outputs": [],
   "source": [
    "freq = uv.freq_array[0]*1e-6\n",
    "antnums = uv.antenna_numbers\n",
    "times = np.unique(uv.time_array)"
   ]
  },
  {
   "cell_type": "code",
   "execution_count": null,
   "metadata": {},
   "outputs": [],
   "source": [
    "def allauto_waterfall_lineplot (colorbar_min, colorbar_max):\n",
    "    \n",
    "    for ant in uv.antenna_numbers:\n",
    "        freq = uv.freq_array[0]*1e-6\n",
    "        fig = plt.figure(figsize=(20,20))\n",
    "\n",
    "        #can use gridspec instead of saying add_subplot(1,2,1) etc\n",
    "        gs = gridspec.GridSpec(2, 1, height_ratios=[2,1]) \n",
    "\n",
    "        #creates waterfall subplot\n",
    "        waterfall= plt.subplot(gs[0])\n",
    "\n",
    "        #create time axis\n",
    "        jd_ax=plt.gca()\n",
    "\n",
    "        #there are a lot of redundancies in time_array, so to make sure that we have a list\n",
    "        #of unique times to work with, we start off by making a new array... not doing this will\n",
    "        #make things get messy. gave me a blank plot at first with a bunch of lines on the side\n",
    "        #before i did this.\n",
    "        times= np.unique(uv.time_array)\n",
    "\n",
    "        #create the plot. uv.get_data will get data from specified antennas\n",
    "        #colors.LogNorm() puts colors on log scale\n",
    "        im = plt.imshow(np.abs(uv.get_data((ant,ant, uv.polarization_array[0]))),norm=colors.LogNorm(), \n",
    "                   vmin=colorbar_min, vmax=colorbar_max, aspect='auto')\n",
    "        waterfall.set_title('Waterfall+Lineplot, Antenna '+str(ant))\n",
    "\n",
    "        # get an array of frequencies in MHz\n",
    "        freqs = uv.freq_array[0, :] / 1000000\n",
    "        xticks = np.arange(0, len(freqs), 120)\n",
    "        plt.xticks(xticks, labels =np.around(freqs[xticks],2))\n",
    "\n",
    "        jd_ax.set_ylabel('JD Time (days)')\n",
    "\n",
    "        #makes equally spaced ticks in increments of 100. since we are assuming time is pretty\n",
    "        #continuous, this will cover all times pretty well if we go from 0 to the length \n",
    "        jd_yticks = np.arange(0,len(times),100)\n",
    "        #set_yticks takes a List of y-axis tick locations. its purpose is to set tick locations\n",
    "        jd_ax.set_yticks(jd_yticks)\n",
    "        #this function actually determines what the tickmarks will say.\n",
    "        jd_ax.set_yticklabels(np.around(times[jd_yticks],2))\n",
    "\n",
    "\n",
    "        #create second axis\n",
    "        lst_ax = jd_ax.twinx()\n",
    "        lst_ax.set_ylabel('LST Time (hour of the day)')\n",
    "\n",
    "        #lst_array is in radians, and we want it in *hours*.. rad*180/pi = degrees\n",
    "        #one hour= 15 degrees\n",
    "        lst_hours = (uv.lst_array*(180/np.pi))/(15)\n",
    "\n",
    "        #creates array of unique lsts\n",
    "        lsts= lst_hours.reshape(uv.Ntimes,uv.Nbls)\n",
    "        lsts = lsts[:,0]\n",
    "\n",
    "        #set the ticks of the lst axis to match the lst_array in hours\n",
    "        lst_yticks = np.arange(0,len(lsts),100)\n",
    "        lst_ax.set_yticks(lst_yticks)\n",
    "        lst_ax.set_yticklabels(np.around(lsts[lst_yticks],2))\n",
    "\n",
    "        #gives the lst_axis information about the jd_axis. stuff like the y-dimension of the data. \n",
    "        #gets the axes to line up properly. will make it so that the tick-marks lining up, and the \n",
    "        #zeroth entry of times[jd_yticks] lining up with the zeroth entry of lsts[lst_yticks]\n",
    "        lst_ax.set_ylim(jd_ax.get_ylim())\n",
    "\n",
    "        #makes it so that the second axis does not alter the structure of the figure\n",
    "        jd_ax.autoscale(False)\n",
    "        lst_ax.autoscale(False)\n",
    "\n",
    "        #creates line subplot and positions it according to gs[1]\n",
    "        line= plt.subplot(gs[1])\n",
    "\n",
    "        averaged_data= np.abs(np.average(uv.get_data((1,1, uv.polarization_array[0])),0))\n",
    "\n",
    "        plt.plot(freq,averaged_data)\n",
    "        line.set_yscale('log')\n",
    "        line.set_xlabel('Frequency (MHz)')\n",
    "        line.set_ylabel('Power')\n",
    "        #sets the range of the graph to be the same range as waterfall plot\n",
    "        line.set_xlim(freq[0],freq[-1])\n",
    "\n",
    "\n",
    "        #makes waterfall x ticks invisible\n",
    "        plt.setp(waterfall.get_xticklabels(), visible=False)\n",
    "\n",
    "        #brings plots together\n",
    "        plt.subplots_adjust(hspace=.0)\n",
    "\n",
    "\n",
    "        #pad moves colorbar farther from plot\n",
    "        cbar = plt.colorbar(im, pad= 0.15, orientation = 'horizontal')\n",
    "        cbar.set_label('Power -->')\n",
    "        \n",
    "        #plt.savefig('/lustre/aoc/projects/hera/amyers/gitrepos/monsterDetection/waterfalls/'+\n",
    "        #            str(file)+'WF_LP_ant'+str(ant))\n",
    "        plt.show()\n",
    "        plt.close()\n",
    "    return;"
   ]
  },
  {
   "cell_type": "code",
   "execution_count": null,
   "metadata": {},
   "outputs": [],
   "source": [
    "def every_hour_lineplot(ant):\n",
    "\n",
    "    fig = plt.figure(figsize=(20,20))\n",
    "\n",
    "    def find_nearest(array, value):\n",
    "        array = np.asarray(array)\n",
    "        idx = (np.abs(array - value)).argmin()\n",
    "        return array[idx]\n",
    "\n",
    "    #creating hour_array, which has times from time_array that are spaced ~ 1 hour apart \n",
    "    hour_arrange = np.arange(times[0],times[-1],(1/24))\n",
    "    hour_array=[]\n",
    "    for hour_value in hour_arrange:\n",
    "        time = find_nearest(times,hour_value)\n",
    "        hour_array.append(time)\n",
    "\n",
    "    #setting up the structure of the subplots plots\n",
    "    nhours = len(hour_array)\n",
    "    cols = 3\n",
    "    rows = nhours//cols +1\n",
    "    i = 1\n",
    "\n",
    "    #creating the plots\n",
    "    for time in hour_array:\n",
    "\n",
    "        plt.subplot(rows,cols,i)\n",
    "\n",
    "        times_index = np.where(times == time)\n",
    "        #np.where outputs a tuple. [0] pulls out a single number array, int makes it a number\n",
    "        #which is not in an array\n",
    "        times_index = int(times_index[0])\n",
    "\n",
    "        dat = np.abs(uv.get_data((ant,ant,'xx'))[times_index])\n",
    "\n",
    "        plt.plot(freq,dat)\n",
    "        plt.title('Ant '+str(ant)+',  time = '+str(time))\n",
    "        plt.yscale('log')\n",
    "        plt.ylim((1e6,1e8))\n",
    "\n",
    "        #add 1 to i\n",
    "        i +=1"
   ]
  },
  {
   "cell_type": "code",
   "execution_count": null,
   "metadata": {},
   "outputs": [],
   "source": [
    "every_hour_lineplot(1)"
   ]
  },
  {
   "cell_type": "code",
   "execution_count": null,
   "metadata": {},
   "outputs": [],
   "source": [
    "file = 2458746\n",
    "uv = UVData()\n",
    "uv.read('/lustre/aoc/projects/hera/pstar/autos/'+str(file)+'_autos_sum.uvh5')\n",
    "print(np.sort(uv.antenna_numbers))\n",
    "freq = uv.freq_array[0]*1e-6\n",
    "antnums = uv.antenna_numbers\n",
    "times = np.unique(uv.time_array)"
   ]
  },
  {
   "cell_type": "code",
   "execution_count": null,
   "metadata": {},
   "outputs": [],
   "source": [
    "every_hour_lineplot(1)"
   ]
  },
  {
   "cell_type": "code",
   "execution_count": null,
   "metadata": {},
   "outputs": [],
   "source": [
    "file = 2458748\n",
    "uv = UVData()\n",
    "uv.read('/lustre/aoc/projects/hera/pstar/autos/'+str(file)+'_autos_sum.uvh5')\n",
    "print(np.sort(uv.antenna_numbers))\n",
    "freq = uv.freq_array[0]*1e-6\n",
    "antnums = uv.antenna_numbers\n",
    "times = np.unique(uv.time_array)"
   ]
  },
  {
   "cell_type": "code",
   "execution_count": null,
   "metadata": {},
   "outputs": [],
   "source": [
    "every_hour_lineplot(1)"
   ]
  },
  {
   "cell_type": "code",
   "execution_count": null,
   "metadata": {},
   "outputs": [],
   "source": [
    "every_hour_lineplot(0)"
   ]
  },
  {
   "cell_type": "code",
   "execution_count": null,
   "metadata": {},
   "outputs": [],
   "source": [
    "every_hour_lineplot(13)"
   ]
  },
  {
   "cell_type": "code",
   "execution_count": null,
   "metadata": {},
   "outputs": [],
   "source": [
    "file = 2458812\n",
    "uv = UVData()\n",
    "uv.read('/lustre/aoc/projects/hera/pstar/autos/'+str(file)+'_autos_sum.uvh5')\n",
    "print(np.sort(uv.antenna_numbers))\n",
    "freq = uv.freq_array[0]*1e-6\n",
    "antnums = uv.antenna_numbers\n",
    "times = np.unique(uv.time_array)"
   ]
  },
  {
   "cell_type": "code",
   "execution_count": null,
   "metadata": {},
   "outputs": [],
   "source": [
    "every_hour_lineplot(0)"
   ]
  },
  {
   "cell_type": "code",
   "execution_count": null,
   "metadata": {},
   "outputs": [],
   "source": [
    "every_hour_lineplot(1)"
   ]
  },
  {
   "cell_type": "code",
   "execution_count": null,
   "metadata": {},
   "outputs": [],
   "source": [
    "every_hour_lineplot(13)"
   ]
  },
  {
   "cell_type": "code",
   "execution_count": null,
   "metadata": {},
   "outputs": [],
   "source": []
  }
 ],
 "metadata": {
  "kernelspec": {
   "display_name": "Python 3",
   "language": "python",
   "name": "python3"
  },
  "language_info": {
   "codemirror_mode": {
    "name": "ipython",
    "version": 3
   },
   "file_extension": ".py",
   "mimetype": "text/x-python",
   "name": "python",
   "nbconvert_exporter": "python",
   "pygments_lexer": "ipython3",
   "version": "3.7.7"
  }
 },
 "nbformat": 4,
 "nbformat_minor": 4
}
